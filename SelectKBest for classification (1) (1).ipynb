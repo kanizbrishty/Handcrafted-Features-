{
 "cells": [
  {
   "cell_type": "code",
   "execution_count": null,
   "id": "7619b72e",
   "metadata": {},
   "outputs": [],
   "source": [
    "from sklearn.feature_selection import SelectKBest\n",
    "from sklearn.feature_selection import chi2, f_regression\n",
    "from sklearn.datasets import load_boston\n",
    "from sklearn.datasets import load_iris\n",
    "from numpy import array \n",
    "import numpy as np\n",
    "import matplotlib.pyplot as plt\n",
    "import pandas as pd"
   ]
  },
  {
   "cell_type": "code",
   "execution_count": null,
   "id": "0c5dc3d1",
   "metadata": {},
   "outputs": [],
   "source": [
    "data=pd.read_csv(\"F:\\\\LabelingAFS.csv\")"
   ]
  },
  {
   "cell_type": "code",
   "execution_count": null,
   "id": "51b6b900",
   "metadata": {},
   "outputs": [],
   "source": [
    "data"
   ]
  },
  {
   "cell_type": "code",
   "execution_count": null,
   "id": "38a89cf7",
   "metadata": {},
   "outputs": [],
   "source": [
    "#data=data.drop(['Unnamed: 0'],axis=1)\n"
   ]
  },
  {
   "cell_type": "code",
   "execution_count": null,
   "id": "81a9ab56",
   "metadata": {},
   "outputs": [],
   "source": [
    "data=data.fillna(method='ffill')"
   ]
  },
  {
   "cell_type": "code",
   "execution_count": null,
   "id": "5981e5b8",
   "metadata": {},
   "outputs": [],
   "source": [
    "y= data['class']\n",
    "x= data.drop('class', axis=1)"
   ]
  },
  {
   "cell_type": "code",
   "execution_count": null,
   "id": "a118eb45",
   "metadata": {},
   "outputs": [],
   "source": [
    "select = SelectKBest(score_func=f_regression)\n"
   ]
  },
  {
   "cell_type": "code",
   "execution_count": null,
   "id": "b6765809",
   "metadata": {},
   "outputs": [],
   "source": [
    "select.fit(x,y)"
   ]
  },
  {
   "cell_type": "code",
   "execution_count": null,
   "id": "814990db",
   "metadata": {},
   "outputs": [],
   "source": [
    "score_col=pd.DataFrame(select.scores_,columns=['Score value'])"
   ]
  },
  {
   "cell_type": "code",
   "execution_count": null,
   "id": "cb0192f5",
   "metadata": {},
   "outputs": [],
   "source": [
    "score_col"
   ]
  },
  {
   "cell_type": "code",
   "execution_count": null,
   "id": "107d8f32",
   "metadata": {},
   "outputs": [],
   "source": [
    "name_col=pd.DataFrame(x.columns)"
   ]
  },
  {
   "cell_type": "code",
   "execution_count": null,
   "id": "eb23cb9a",
   "metadata": {},
   "outputs": [],
   "source": [
    "name_col"
   ]
  },
  {
   "cell_type": "code",
   "execution_count": null,
   "id": "034a8f7f",
   "metadata": {},
   "outputs": [],
   "source": [
    "top_feature=pd.concat([name_col,score_col],axis=1)"
   ]
  },
  {
   "cell_type": "code",
   "execution_count": null,
   "id": "3a4f5f23",
   "metadata": {},
   "outputs": [],
   "source": [
    "top_feature"
   ]
  },
  {
   "cell_type": "code",
   "execution_count": null,
   "id": "142beaa9",
   "metadata": {},
   "outputs": [],
   "source": [
    "top_feature.nlargest(60,'Score value')"
   ]
  },
  {
   "cell_type": "code",
   "execution_count": null,
   "id": "877bce79",
   "metadata": {},
   "outputs": [],
   "source": [
    "top_feature.nlargest(85,'Score value')"
   ]
  },
  {
   "cell_type": "code",
   "execution_count": null,
   "id": "26dffead",
   "metadata": {},
   "outputs": [],
   "source": [
    "top_feature.columns"
   ]
  },
  {
   "cell_type": "code",
   "execution_count": null,
   "id": "274b6ebd",
   "metadata": {},
   "outputs": [],
   "source": []
  },
  {
   "cell_type": "code",
   "execution_count": null,
   "id": "e25b0e4c",
   "metadata": {},
   "outputs": [],
   "source": []
  }
 ],
 "metadata": {
  "kernelspec": {
   "display_name": "Python 3 (ipykernel)",
   "language": "python",
   "name": "python3"
  },
  "language_info": {
   "codemirror_mode": {
    "name": "ipython",
    "version": 3
   },
   "file_extension": ".py",
   "mimetype": "text/x-python",
   "name": "python",
   "nbconvert_exporter": "python",
   "pygments_lexer": "ipython3",
   "version": "3.10.9"
  }
 },
 "nbformat": 4,
 "nbformat_minor": 5
}
