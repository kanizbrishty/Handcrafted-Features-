{
  "cells": [
    {
      "cell_type": "code",
      "execution_count": null,
      "metadata": {
        "id": "mHs7Lz-56YNi"
      },
      "outputs": [],
      "source": [
        "import pandas as pd\n",
        "import numpy as np\n",
        "import matplotlib.pyplot as plt\n",
        "%matplotlib inline\n",
        "import warnings\n",
        "warnings.filterwarnings(\"ignore\")\n",
        "import seaborn\n",
        "import cv2\n",
        "import glob\n",
        "import os"
      ]
    },
    {
      "cell_type": "code",
      "execution_count": null,
      "metadata": {
        "colab": {
          "base_uri": "https://localhost:8080/"
        },
        "id": "EwL7rZsF6y54",
        "outputId": "2810ce60-2273-4bfd-a34f-b7e416b37cb6"
      },
      "outputs": [
        {
          "name": "stdout",
          "output_type": "stream",
          "text": [
            "Numbers of files in this folder:  317\n"
          ]
        }
      ],
      "source": [
        "directory = '/content/drive/MyDrive/Breast Cancer/Final Work/Dataset/Grade_1'\n",
        "csv=r'/content/drive/MyDrive/Breast Cancer/Final Work/CSV File/Hu_moment_Grade_1.csv' ### csv save path\n",
        "\n",
        "all_dataframe=[]\n",
        "count=0\n",
        "for im in os.listdir(directory):\n",
        "  count=count+1  \n",
        "  path = os.path.join(directory,im)\n",
        "  img = cv2.imread(path)\n",
        "  img = cv2.cvtColor(img, cv2.COLOR_BGR2GRAY)\n",
        "  mt = cv2.HuMoments(cv2.moments(img))                                    \n",
        "  new=mt.flatten()\n",
        "  df = pd.DataFrame(new)\n",
        "  df_new= df.T\n",
        "  df =df_new.rename(columns={0: 'H[0]', 1: 'H[1]',2: 'H[2]', 3: 'H[3]',4: 'H[4]', 5: 'H[5]', 6: 'H[6]'})\n",
        "  all_dataframe.append(df)\n",
        "\n",
        "vertical_concat_final = pd.concat(all_dataframe, axis=0,ignore_index=True)    \n",
        "print(\"Numbers of files in this folder: \",count)\n",
        "vertical_concat_final.to_csv(csv,index=False)"
      ]
    },
    {
      "cell_type": "code",
      "execution_count": null,
      "metadata": {
        "colab": {
          "base_uri": "https://localhost:8080/"
        },
        "id": "MvZ1Ino96zBG",
        "outputId": "2578560e-bf9f-4e7e-d3d1-2bdf84a03043"
      },
      "outputs": [
        {
          "name": "stdout",
          "output_type": "stream",
          "text": [
            "Numbers of files in this folder:  317\n"
          ]
        }
      ],
      "source": [
        "directory = '/content/drive/MyDrive/Breast Cancer/Final Work/Dataset/Grade_1'\n",
        "csv=r'/content/drive/MyDrive/Breast Cancer/Final Work/CSV File/Hu_moment_Grade_2.csv' ### csv save path\n",
        "\n",
        "all_dataframe=[]\n",
        "count=0\n",
        "for im in os.listdir(directory):\n",
        "  count=count+1  \n",
        "  path = os.path.join(directory,im)\n",
        "  img = cv2.imread(path)\n",
        "  img = cv2.cvtColor(img, cv2.COLOR_BGR2GRAY)\n",
        "  mt = cv2.HuMoments(cv2.moments(img))\n",
        "  new=mt.flatten()\n",
        "  df = pd.DataFrame(new)\n",
        "  df_new= df.T\n",
        "  df =df_new.rename(columns={0: 'H[0]', 1: 'H[1]',2: 'H[2]', 3: 'H[3]',4: 'H[4]', 5: 'H[5]', 6: 'H[6]'})\n",
        "  all_dataframe.append(df)\n",
        "\n",
        "vertical_concat_final = pd.concat(all_dataframe, axis=0,ignore_index=True)    \n",
        "print(\"Numbers of files in this folder: \",count)\n",
        "vertical_concat_final.to_csv(csv,index=False)"
      ]
    },
    {
      "cell_type": "code",
      "execution_count": null,
      "metadata": {
        "colab": {
          "base_uri": "https://localhost:8080/"
        },
        "id": "fKIwE42x6zEU",
        "outputId": "aaf2e84d-b7d2-4aa4-826f-6880c926198a"
      },
      "outputs": [
        {
          "name": "stdout",
          "output_type": "stream",
          "text": [
            "Numbers of files in this folder:  317\n"
          ]
        }
      ],
      "source": [
        "directory = '/content/drive/MyDrive/Breast Cancer/Final Work/Dataset/Grade_1'\n",
        "csv=r'/content/drive/MyDrive/Breast Cancer/Final Work/CSV File/Hu_moment_Grade_3.csv' ### csv save path\n",
        "\n",
        "all_dataframe=[]\n",
        "count=0\n",
        "for im in os.listdir(directory):\n",
        "  count=count+1  \n",
        "  path = os.path.join(directory,im)\n",
        "  img = cv2.imread(path)\n",
        "  img = cv2.cvtColor(img, cv2.COLOR_BGR2GRAY)\n",
        "  mt = cv2.HuMoments(cv2.moments(img))\n",
        "  new=mt.flatten()\n",
        "  df = pd.DataFrame(new)\n",
        "  df_new= df.T\n",
        "  df =df_new.rename(columns={0: 'H[0]', 1: 'H[1]',2: 'H[2]', 3: 'H[3]',4: 'H[4]', 5: 'H[5]', 6: 'H[6]'})\n",
        "  all_dataframe.append(df)\n",
        "\n",
        "vertical_concat_final = pd.concat(all_dataframe, axis=0,ignore_index=True)    \n",
        "print(\"Numbers of files in this folder: \",count)\n",
        "vertical_concat_final.to_csv(csv,index=False)"
      ]
    }
  ],
  "metadata": {
    "colab": {
      "provenance": []
    },
    "kernelspec": {
      "display_name": "Python 3",
      "name": "python3"
    },
    "language_info": {
      "name": "python"
    }
  },
  "nbformat": 4,
  "nbformat_minor": 0
}
