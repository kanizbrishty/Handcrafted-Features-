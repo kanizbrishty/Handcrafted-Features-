{
 "cells": [
  {
   "cell_type": "code",
   "execution_count": null,
   "id": "c90a4ade",
   "metadata": {
    "colab": {
     "base_uri": "https://localhost:8080/"
    },
    "id": "c90a4ade",
    "outputId": "fd125b8c-192a-4349-8ab1-d7736e4402f7"
   },
   "outputs": [],
   "source": [
    "# Import Dependenices\n",
    "import numpy as np\n",
    "import pandas as pd\n",
    "import matplotlib.pyplot as plt\n",
    "import seaborn as sns\n",
    "from sklearn.model_selection import train_test_split\n",
    "from sklearn.feature_selection import f_classif, f_regression\n",
    "from sklearn.feature_selection import SelectKBest, SelectPercentile\n",
    "%matplotlib inline\n",
    "!pip install scikit-plot"
   ]
  },
  {
   "cell_type": "code",
   "execution_count": null,
   "id": "hLmSOYxWGcYL",
   "metadata": {
    "colab": {
     "base_uri": "https://localhost:8080/"
    },
    "id": "hLmSOYxWGcYL",
    "outputId": "1006bf71-35ca-421c-fec4-3efc345fc266"
   },
   "outputs": [],
   "source": [
    "from google.colab import drive\n",
    "drive.mount('/content/drive')"
   ]
  },
  {
   "cell_type": "code",
   "execution_count": null,
   "id": "d328c3e3",
   "metadata": {
    "colab": {
     "base_uri": "https://localhost:8080/"
    },
    "id": "d328c3e3",
    "outputId": "3194dc83-e97a-49e4-aa9c-5074897fb23c"
   },
   "outputs": [],
   "source": [
    "# Load Dataset\n",
    "df =pd.read_csv(\"D:\\Research Related Work\\handcrafted csv\\check csv\\hu_glcm_lbpGabor2_haralick_tamura_final43.csv\")\n",
    "df.shape"
   ]
  },
  {
   "cell_type": "code",
   "execution_count": null,
   "id": "0cb12731",
   "metadata": {
    "colab": {
     "base_uri": "https://localhost:8080/",
     "height": 487
    },
    "id": "0cb12731",
    "outputId": "b9700a69-0e81-487e-d0b1-3366ad3ce64a"
   },
   "outputs": [],
   "source": [
    "df"
   ]
  },
  {
   "cell_type": "code",
   "execution_count": null,
   "id": "ff827ad4",
   "metadata": {
    "id": "ff827ad4"
   },
   "outputs": [],
   "source": [
    "#df=df.drop(['Unnamed: 0'],axis=1)\n"
   ]
  },
  {
   "cell_type": "code",
   "execution_count": null,
   "id": "252abdef",
   "metadata": {
    "colab": {
     "base_uri": "https://localhost:8080/",
     "height": 487
    },
    "id": "252abdef",
    "outputId": "4f6d08c3-0acc-48d0-d1b3-21006d930d46"
   },
   "outputs": [],
   "source": [
    "df"
   ]
  },
  {
   "cell_type": "code",
   "execution_count": null,
   "id": "97d572e3",
   "metadata": {
    "id": "97d572e3"
   },
   "outputs": [],
   "source": [
    "df2=pd.read_csv(\"E:\\\\Research Related Work\\\\CRC-VAL-HE-7K\\\\7K CSV\\\\full7kdata.csv\")"
   ]
  },
  {
   "cell_type": "code",
   "execution_count": null,
   "id": "e2104fa3",
   "metadata": {
    "id": "e2104fa3",
    "outputId": "f5abebad-09ef-4fa7-cec0-59028b6ad5f7"
   },
   "outputs": [],
   "source": [
    "df2"
   ]
  },
  {
   "cell_type": "code",
   "execution_count": null,
   "id": "7f023012",
   "metadata": {
    "id": "7f023012"
   },
   "outputs": [],
   "source": [
    "df2=df2.drop(['Unnamed: 0'],axis=1)\n"
   ]
  },
  {
   "cell_type": "code",
   "execution_count": null,
   "id": "457c9c8d",
   "metadata": {
    "colab": {
     "base_uri": "https://localhost:8080/"
    },
    "id": "457c9c8d",
    "outputId": "c8711b85-d5b0-483e-e4ec-1b89571c6a93"
   },
   "outputs": [],
   "source": [
    "df.isnull().sum().sort_values(ascending=False).head(100)"
   ]
  },
  {
   "cell_type": "code",
   "execution_count": null,
   "id": "395a7cc5",
   "metadata": {
    "id": "395a7cc5"
   },
   "outputs": [],
   "source": [
    "df=df.fillna(method='ffill')"
   ]
  },
  {
   "cell_type": "code",
   "execution_count": null,
   "id": "42c25859",
   "metadata": {
    "id": "42c25859"
   },
   "outputs": [],
   "source": [
    "y= df['class']\n",
    "X= df.drop('class', axis=1)\n"
   ]
  },
  {
   "cell_type": "code",
   "execution_count": null,
   "id": "d7aac589",
   "metadata": {
    "id": "d7aac589"
   },
   "outputs": [],
   "source": [
    "from sklearn.model_selection import train_test_split\n",
    "X_train, X_test, y_train, y_test = train_test_split(X, y, test_size=0.3, random_state=42)\n"
   ]
  },
  {
   "cell_type": "code",
   "execution_count": null,
   "id": "e1284ea7",
   "metadata": {
    "id": "e1284ea7"
   },
   "outputs": [],
   "source": [
    "from sklearn.preprocessing import MinMaxScaler\n",
    "scaler = MinMaxScaler(feature_range=(0,1))\n",
    "X_train = scaler.fit_transform(X_train)\n",
    "X_test  = scaler.transform(X_test)"
   ]
  },
  {
   "cell_type": "markdown",
   "id": "3a389605",
   "metadata": {
    "id": "3a389605"
   },
   "source": [
    "# Univariate Feature Selection"
   ]
  },
  {
   "cell_type": "code",
   "execution_count": null,
   "id": "cea70397",
   "metadata": {
    "colab": {
     "base_uri": "https://localhost:8080/"
    },
    "id": "cea70397",
    "outputId": "d0f3305f-0753-40f7-a867-e75a7b87232f"
   },
   "outputs": [],
   "source": [
    "from sklearn.feature_selection import SelectKBest,chi2\n",
    "bestfeatures = SelectKBest(score_func=chi2, k=40)\n",
    "select = bestfeatures.fit(X_train,y_train)\n",
    "X_train_selected = select.transform(X_train)\n",
    "\n",
    "print(\"X_train.shape: {}\".format(X_train.shape))\n",
    "print(\"X_train_selected.shape: {}\".format(X_train_selected.shape))"
   ]
  },
  {
   "cell_type": "code",
   "execution_count": null,
   "id": "a470106f",
   "metadata": {
    "colab": {
     "base_uri": "https://localhost:8080/"
    },
    "id": "a470106f",
    "outputId": "bbcbdd7f-8896-4958-85d7-953878271a25"
   },
   "outputs": [],
   "source": [
    "mask = select.get_support()\n",
    "mask"
   ]
  },
  {
   "cell_type": "code",
   "execution_count": null,
   "id": "9f374c21",
   "metadata": {
    "colab": {
     "base_uri": "https://localhost:8080/",
     "height": 115
    },
    "id": "9f374c21",
    "outputId": "e4094f74-d6ff-43ae-e60c-ec77f75ee336"
   },
   "outputs": [],
   "source": [
    "import matplotlib.pyplot as plt\n",
    "plt.matshow(mask.reshape(1,-1),cmap='gray_r')\n",
    "plt.xlabel(\"samle index\")\n",
    "plt.yticks(())\n",
    "\n"
   ]
  },
  {
   "cell_type": "code",
   "execution_count": null,
   "id": "9ORTIxwKnC0F",
   "metadata": {
    "colab": {
     "base_uri": "https://localhost:8080/",
     "height": 252
    },
    "id": "9ORTIxwKnC0F",
    "outputId": "c0a2538d-cd31-41ac-b9d3-97db6862206f"
   },
   "outputs": [],
   "source": [
    "plt.figure()\n",
    "cf_matrix = confusion_matrix(y_test, model.predict(X_test))\n",
    "plt.title('Confusion Matrix: {}'.format(name))\n",
    "sns.heatmap(cf_matrix, annot = True, fmt = 'g', cmap = sns.cubehelix_palette(as_cmap=True))\n",
    "plt.show()"
   ]
  },
  {
   "cell_type": "code",
   "execution_count": null,
   "id": "98826a6f",
   "metadata": {
    "colab": {
     "base_uri": "https://localhost:8080/"
    },
    "id": "98826a6f",
    "outputId": "b7505e17-0f15-4e4d-f2b4-636096442927"
   },
   "outputs": [],
   "source": [
    "from sklearn.ensemble import RandomForestClassifier\n",
    "X_test_selected = select.transform(X_test)\n",
    "\n",
    "model = RandomForestClassifier(n_estimators=100,random_state=42)\n",
    "model.fit (X_train,y_train)\n",
    "print(\"Score with all features: {:.3f}\".format(model.score(X_test,y_test)))\n",
    "\n",
    "model.fit (X_train_selected,y_train)\n",
    "print(\"Score with selected features: {:.3f}\".format(model.score(X_test_selected,y_test)))\n",
    "\n"
   ]
  },
  {
   "cell_type": "code",
   "execution_count": null,
   "id": "93cad4c1",
   "metadata": {},
   "outputs": [],
   "source": [
    "y_pred= model.predict(X_test_selected) \n",
    "\n",
    "from sklearn.metrics import confusion_matrix  \n",
    "cm= confusion_matrix(y_test, y_pred)\n",
    "cm"
   ]
  },
  {
   "cell_type": "code",
   "execution_count": null,
   "id": "3d12bb09",
   "metadata": {},
   "outputs": [],
   "source": [
    "\n",
    "from sklearn.metrics import classification_report,confusion_matrix\n",
    "\n",
    "print(classification_report(y_test,y_pred))"
   ]
  },
  {
   "cell_type": "code",
   "execution_count": null,
   "id": "828e1eb6",
   "metadata": {
    "colab": {
     "base_uri": "https://localhost:8080/"
    },
    "id": "828e1eb6",
    "outputId": "b612285b-f899-45c9-c425-23c1cca4dc54"
   },
   "outputs": [],
   "source": [
    "from xgboost import XGBClassifier\n",
    "X_test_selected = select.transform(X_test)\n",
    "\n",
    "model = XGBClassifier(n_estimators=100,random_state=42)\n",
    "model.fit (X_train,y_train)\n",
    "print(\"Score with all features: {:.3f}\".format(model.score(X_test,y_test)))\n",
    "\n",
    "model.fit (X_train_selected,y_train)\n",
    "print(\"Score with selected features: {:.3f}\".format(model.score(X_test_selected,y_test)))\n",
    "\n",
    "\n"
   ]
  },
  {
   "cell_type": "code",
   "execution_count": null,
   "id": "06168714",
   "metadata": {},
   "outputs": [],
   "source": [
    "y_pred= model.predict(X_test_selected) \n",
    "\n",
    "from sklearn.metrics import confusion_matrix  \n",
    "cm= confusion_matrix(y_test, y_pred)\n",
    "cm"
   ]
  },
  {
   "cell_type": "code",
   "execution_count": null,
   "id": "23b9d3ad",
   "metadata": {},
   "outputs": [],
   "source": [
    "from sklearn.metrics import classification_report,confusion_matrix\n",
    "\n",
    "print(classification_report(y_test,y_pred))"
   ]
  },
  {
   "cell_type": "code",
   "execution_count": null,
   "id": "4b10fe14",
   "metadata": {},
   "outputs": [],
   "source": [
    "from lightgbm import LGBMClassifier\n",
    "X_test_selected = select.transform(X_test)\n",
    "\n",
    "model = LGBMClassifier()\n",
    "model.fit (X_train,y_train)\n",
    "#print(\"Score with all features: {:.3f}\".format(model.score(X_test,y_test)))\n",
    "\n",
    "model.fit (X_train_selected,y_train)\n",
    "print(\"Score with selected features: {:.3f}\".format(model.score(X_test_selected,y_test)))\n",
    "\n",
    "\n",
    "# accurac"
   ]
  },
  {
   "cell_type": "code",
   "execution_count": null,
   "id": "a7f0462d",
   "metadata": {},
   "outputs": [],
   "source": [
    "y_pred= model.predict(X_test_selected) \n",
    "\n",
    "from sklearn.metrics import confusion_matrix  \n",
    "cm= confusion_matrix(y_test, y_pred)\n",
    "cm\n"
   ]
  },
  {
   "cell_type": "code",
   "execution_count": null,
   "id": "18d1c623",
   "metadata": {},
   "outputs": [],
   "source": [
    "from sklearn.metrics import classification_report,confusion_matrix\n",
    "\n",
    "print(classification_report(y_test,y_pred))"
   ]
  },
  {
   "cell_type": "code",
   "execution_count": null,
   "id": "9fc80f8d",
   "metadata": {},
   "outputs": [],
   "source": [
    "from sklearn.svm import SVC\n",
    "X_test_selected = select.transform(X_test)\n",
    "\n",
    "model = SVC()\n",
    "model.fit (X_train,y_train)\n",
    "#print(\"Score with all features: {:.3f}\".format(model.score(X_test,y_test)))\n",
    "\n",
    "model.fit (X_train_selected,y_train)\n",
    "print(\"Score with selected features: {:.3f}\".format(model.score(X_test_selected,y_test)))"
   ]
  },
  {
   "cell_type": "code",
   "execution_count": null,
   "id": "c2ecb81e",
   "metadata": {},
   "outputs": [],
   "source": [
    "y_pred= model.predict(X_test_selected) \n",
    "\n",
    "from sklearn.metrics import confusion_matrix  \n",
    "cm= confusion_matrix(y_test, y_pred)\n",
    "cm"
   ]
  },
  {
   "cell_type": "code",
   "execution_count": null,
   "id": "0cfdd453",
   "metadata": {},
   "outputs": [],
   "source": [
    "from sklearn.metrics import classification_report,confusion_matrix\n",
    "\n",
    "print(classification_report(y_test,y_pred))"
   ]
  },
  {
   "cell_type": "code",
   "execution_count": null,
   "id": "c63c1d0d",
   "metadata": {},
   "outputs": [],
   "source": [
    "from sklearn.linear_model import LogisticRegression\n",
    "from sklearn.tree import DecisionTreeClassifier\n",
    "X_test_selected = select.transform(X_test)\n",
    "\n",
    "model = DecisionTreeClassifier()\n",
    "model.fit (X_train,y_train)\n",
    "#print(\"Score with all features: {:.3f}\".format(model.score(X_test,y_test)))\n",
    "\n",
    "model.fit (X_train_selected,y_train)\n",
    "print(\"Score with selected features: {:.3f}\".format(model.score(X_test_selected,y_test)))\n",
    "\n",
    "\n",
    "# accurac"
   ]
  },
  {
   "cell_type": "code",
   "execution_count": null,
   "id": "fa198860",
   "metadata": {},
   "outputs": [],
   "source": [
    "y_pred= model.predict(X_test_selected) \n",
    "\n",
    "from sklearn.metrics import confusion_matrix  \n",
    "cm= confusion_matrix(y_test, y_pred)\n",
    "cm"
   ]
  },
  {
   "cell_type": "code",
   "execution_count": null,
   "id": "4277ac2e",
   "metadata": {},
   "outputs": [],
   "source": [
    "from sklearn.metrics import classification_report,confusion_matrix\n",
    "\n",
    "print(classification_report(y_test,y_pred))"
   ]
  },
  {
   "cell_type": "code",
   "execution_count": null,
   "id": "9060723d",
   "metadata": {},
   "outputs": [],
   "source": [
    "from sklearn.linear_model import LogisticRegression\n",
    "from sklearn.tree import DecisionTreeClassifier\n",
    "X_test_selected = select.transform(X_test)\n",
    "\n",
    "model = LogisticRegression()\n",
    "model.fit (X_train,y_train)\n",
    "#print(\"Score with all features: {:.3f}\".format(model.score(X_test,y_test)))\n",
    "\n",
    "model.fit (X_train_selected,y_train)\n",
    "print(\"Score with selected features: {:.3f}\".format(model.score(X_test_selected,y_test)))\n",
    "\n"
   ]
  },
  {
   "cell_type": "code",
   "execution_count": null,
   "id": "860a0c34",
   "metadata": {},
   "outputs": [],
   "source": [
    "y_pred= model.predict(X_test_selected) \n",
    "\n",
    "from sklearn.metrics import confusion_matrix  \n",
    "cm= confusion_matrix(y_test, y_pred)\n",
    "cm"
   ]
  },
  {
   "cell_type": "code",
   "execution_count": null,
   "id": "9bf52565",
   "metadata": {},
   "outputs": [],
   "source": [
    "from sklearn.metrics import classification_report,confusion_matrix\n",
    "\n",
    "print(classification_report(y_test,y_pred))"
   ]
  },
  {
   "cell_type": "code",
   "execution_count": null,
   "id": "11320714",
   "metadata": {},
   "outputs": [],
   "source": [
    "from sklearn.model_selection import cross_val_score\n",
    "cv_score=cross_val_score(model,X,y,cv=10)\n"
   ]
  },
  {
   "cell_type": "code",
   "execution_count": null,
   "id": "367877bb",
   "metadata": {},
   "outputs": [],
   "source": []
  },
  {
   "cell_type": "code",
   "execution_count": null,
   "id": "4b1bf97c",
   "metadata": {},
   "outputs": [],
   "source": [
    "cv_score"
   ]
  },
  {
   "cell_type": "code",
   "execution_count": null,
   "id": "Hywufu3DoqqI",
   "metadata": {
    "colab": {
     "base_uri": "https://localhost:8080/",
     "height": 452
    },
    "id": "Hywufu3DoqqI",
    "outputId": "8d9c19b3-1e56-49ba-81ef-943d40396dc3"
   },
   "outputs": [],
   "source": [
    "from sklearn.metrics import confusion_matrix\n",
    "\n",
    "plt.figure()\n",
    "cf_matrix = confusion_matrix(y_test, model.predict(X_test_selected))\n",
    "plt.title(\"XGBoost\")\n",
    "sns.heatmap(cf_matrix, annot = True, fmt = 'g', cmap = sns.cubehelix_palette(as_cmap=True))\n",
    "plt.show()"
   ]
  },
  {
   "cell_type": "code",
   "execution_count": null,
   "id": "4riW49n2XTqT",
   "metadata": {
    "colab": {
     "base_uri": "https://localhost:8080/",
     "height": 472
    },
    "id": "4riW49n2XTqT",
    "outputId": "794f8116-6fc2-40b0-bcd9-c6c68426fd5f"
   },
   "outputs": [],
   "source": [
    "import scikitplot as skplt\n",
    "\n",
    "skplt.metrics.plot_roc(y_test, model.predict_proba(X_test_selected))\n",
    "plt.title('\"XGBoost\"')\n",
    "plt.show()"
   ]
  },
  {
   "cell_type": "code",
   "execution_count": null,
   "id": "hLAwzxq-Y9ld",
   "metadata": {
    "id": "hLAwzxq-Y9ld"
   },
   "outputs": [],
   "source": [
    "\n",
    "from sklearn.model_selection import cross_val_score\n",
    "cv_score=cross_val_score(model,X,y,cv=20)\n",
    "cv_score"
   ]
  },
  {
   "cell_type": "code",
   "execution_count": null,
   "id": "7b35f154",
   "metadata": {
    "colab": {
     "base_uri": "https://localhost:8080/"
    },
    "id": "7b35f154",
    "outputId": "160bb081-d0d2-4810-9df7-6daf700aeee9"
   },
   "outputs": [],
   "source": [
    "!pip install lazypredict\n",
    "import lazypredict\n",
    "from lazypredict.Supervised import LazyClassifier\n",
    "from sklearn.model_selection import train_test_split"
   ]
  },
  {
   "cell_type": "markdown",
   "id": "e7760891",
   "metadata": {
    "id": "e7760891"
   },
   "source": [
    "# Random Forest Feature_Importance"
   ]
  },
  {
   "cell_type": "code",
   "execution_count": null,
   "id": "996a3843",
   "metadata": {
    "colab": {
     "base_uri": "https://localhost:8080/"
    },
    "id": "996a3843",
    "outputId": "fc56da60-5e0d-4e19-b2e7-0f56998cda5a"
   },
   "outputs": [],
   "source": [
    "from sklearn.ensemble import RandomForestClassifier\n",
    "model = RandomForestClassifier()\n",
    "model.fit(X_train,y_train)\n",
    "model.feature_importances_"
   ]
  },
  {
   "cell_type": "code",
   "execution_count": null,
   "id": "600827bf",
   "metadata": {
    "colab": {
     "base_uri": "https://localhost:8080/",
     "height": 430
    },
    "id": "600827bf",
    "outputId": "0d98fa2c-666e-460c-f19e-c0de8a656f9f"
   },
   "outputs": [],
   "source": [
    "feat_importances = pd.Series(model.feature_importances_)\n",
    "feat_importances.nlargest(10).plot(kind='barh')\n",
    "plt.show()"
   ]
  },
  {
   "cell_type": "code",
   "execution_count": null,
   "id": "c5e729c5",
   "metadata": {
    "colab": {
     "base_uri": "https://localhost:8080/"
    },
    "id": "c5e729c5",
    "outputId": "a7a465cd-b2b1-468f-da50-9060420dbdd8"
   },
   "outputs": [],
   "source": [
    "from sklearn.feature_selection import SelectFromModel\n",
    "from sklearn.ensemble import RandomForestClassifier\n",
    "\n",
    "select = SelectFromModel(RandomForestClassifier(n_estimators=100,random_state=42),threshold=0.01)\n",
    "select.fit(X_train,y_train)\n",
    "X_train_selected = select.transform(X_train)\n",
    "\n",
    "print(\"X_train.shape: {}\".format(X_train.shape))\n",
    "print(\"X_train_selected.shape: {}\".format(X_train_selected.shape))"
   ]
  },
  {
   "cell_type": "code",
   "execution_count": null,
   "id": "a0ad2431",
   "metadata": {
    "colab": {
     "base_uri": "https://localhost:8080/"
    },
    "id": "a0ad2431",
    "outputId": "3f0d4240-8870-42dd-d263-0679d7f14d22"
   },
   "outputs": [],
   "source": [
    "mask = select.get_support()\n",
    "mask"
   ]
  },
  {
   "cell_type": "code",
   "execution_count": null,
   "id": "ac23a486",
   "metadata": {
    "colab": {
     "base_uri": "https://localhost:8080/",
     "height": 98
    },
    "id": "ac23a486",
    "outputId": "6c5e4034-61f8-498c-e98a-3816941ff8ef"
   },
   "outputs": [],
   "source": [
    "mask = select.get_support()\n",
    "\n",
    "plt.matshow(mask.reshape(1,-1),cmap=\"gray_r\")\n",
    "plt.xlabel(\"Sample index\")\n",
    "plt.yticks(())\n",
    "plt.show()"
   ]
  },
  {
   "cell_type": "code",
   "execution_count": null,
   "id": "OLPFe1_YIlHV",
   "metadata": {
    "colab": {
     "base_uri": "https://localhost:8080/"
    },
    "id": "OLPFe1_YIlHV",
    "outputId": "24bda6d8-051e-49b4-aefe-db72b240ee86"
   },
   "outputs": [],
   "source": [
    "clf=LazyClassifier(verbose=0,ignore_warnings=True, custom_metric=None)\n",
    "models,predictions = clf.fit(X_train, X_test, y_train, y_test)\n",
    "\n",
    "print(models)"
   ]
  },
  {
   "cell_type": "code",
   "execution_count": null,
   "id": "5b091a30",
   "metadata": {
    "id": "5b091a30"
   },
   "outputs": [],
   "source": [
    "X_test_selected = select.transform(X_test)\n",
    "\n",
    "\n",
    "model = RandomForestClassifier(n_estimators=100,random_state=42)\n",
    "\n",
    "model.fit(X_train,y_train)\n",
    "print(\"Score with all features: {:.3f}\".format(model.score(X_test,y_test)))\n",
    "\n",
    "model.fit(X_train_selected,y_train)\n",
    "print(\"Score with selected features: {:.3f}\".format(model.score(X_test_selected,y_test)))"
   ]
  },
  {
   "cell_type": "code",
   "execution_count": null,
   "id": "2c50819c",
   "metadata": {
    "id": "2c50819c"
   },
   "outputs": [],
   "source": []
  },
  {
   "cell_type": "code",
   "execution_count": null,
   "id": "76269c0f",
   "metadata": {
    "id": "76269c0f"
   },
   "outputs": [],
   "source": [
    "from xgboost import XGBClassifier\n",
    "X_test_selected = select.transform(X_test)\n",
    "\n",
    "model = XGBClassifier(n_estimators=100,random_state=42)\n",
    "model.fit (X_train,y_train)\n",
    "print(\"Score with all features: {:.3f}\".format(model.score(X_test,y_test)))\n",
    "\n",
    "model.fit (X_train_selected,y_train)\n",
    "print(\"Score with selected features: {:.3f}\".format(model.score(X_test_selected,y_test)))"
   ]
  },
  {
   "cell_type": "raw",
   "id": "0734af95",
   "metadata": {
    "id": "0734af95"
   },
   "source": []
  },
  {
   "cell_type": "code",
   "execution_count": null,
   "id": "b794994e",
   "metadata": {
    "id": "b794994e"
   },
   "outputs": [],
   "source": []
  },
  {
   "cell_type": "code",
   "execution_count": null,
   "id": "aebd476e",
   "metadata": {
    "id": "aebd476e"
   },
   "outputs": [],
   "source": []
  },
  {
   "cell_type": "code",
   "execution_count": null,
   "id": "7d0225eb",
   "metadata": {
    "id": "7d0225eb"
   },
   "outputs": [],
   "source": []
  }
 ],
 "metadata": {
  "colab": {
   "provenance": []
  },
  "kernelspec": {
   "display_name": "Python 3 (ipykernel)",
   "language": "python",
   "name": "python3"
  },
  "language_info": {
   "codemirror_mode": {
    "name": "ipython",
    "version": 3
   },
   "file_extension": ".py",
   "mimetype": "text/x-python",
   "name": "python",
   "nbconvert_exporter": "python",
   "pygments_lexer": "ipython3",
   "version": "3.10.9"
  }
 },
 "nbformat": 4,
 "nbformat_minor": 5
}
